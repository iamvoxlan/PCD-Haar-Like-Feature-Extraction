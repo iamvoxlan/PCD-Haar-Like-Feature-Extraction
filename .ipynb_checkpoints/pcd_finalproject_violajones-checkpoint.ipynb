{
 "cells": [
  {
   "cell_type": "code",
   "execution_count": 1,
   "metadata": {},
   "outputs": [],
   "source": [
    "import numpy as np\n",
    "from PIL import Image\n",
    "from HaarLike import HaarLike\n",
    "from HaarLike import FeatureTypes"
   ]
  },
  {
   "cell_type": "code",
   "execution_count": 2,
   "metadata": {},
   "outputs": [],
   "source": [
    "min_feature_width = 2\n",
    "max_feature_width = 3\n",
    "min_feature_height = 2\n",
    "max_feature_height = 3"
   ]
  },
  {
   "cell_type": "code",
   "execution_count": 3,
   "metadata": {},
   "outputs": [],
   "source": [
    "#image = Image.open(\"image1.png\")"
   ]
  },
  {
   "cell_type": "code",
   "execution_count": 4,
   "metadata": {},
   "outputs": [],
   "source": [
    "#image_arr = np.array(image, dtype=np.float64)\n",
    "image_arr = np.array([[1,2],[4,5],[7,8]])"
   ]
  },
  {
   "cell_type": "code",
   "execution_count": 5,
   "metadata": {},
   "outputs": [
    {
     "data": {
      "text/plain": [
       "array([[1, 2],\n",
       "       [4, 5],\n",
       "       [7, 8]])"
      ]
     },
     "execution_count": 5,
     "metadata": {},
     "output_type": "execute_result"
    }
   ],
   "source": [
    "image_arr"
   ]
  },
  {
   "cell_type": "code",
   "execution_count": 6,
   "metadata": {},
   "outputs": [],
   "source": [
    "def integral_image_convert(image_arr):\n",
    "    row_sum = np.zeros(image_arr.shape)\n",
    "    \n",
    "    integral_image_arr = np.zeros((image_arr.shape[0]+1, image_arr.shape[1]+1))\n",
    "    for x in range (image_arr.shape[1]):\n",
    "        for y in range (image_arr.shape[0]):\n",
    "            row_sum[y,x] = row_sum[y-1,x] + image_arr[y, x]\n",
    "            integral_image_arr[y+1,x+1] = integral_image_arr[y+1, x] + row_sum[y, x]\n",
    "    return integral_image_arr"
   ]
  },
  {
   "cell_type": "code",
   "execution_count": 7,
   "metadata": {},
   "outputs": [],
   "source": [
    "ii_arr = integral_image_convert(image_arr)"
   ]
  },
  {
   "cell_type": "code",
   "execution_count": 8,
   "metadata": {
    "scrolled": true
   },
   "outputs": [
    {
     "data": {
      "text/plain": [
       "array([[ 0.,  0.,  0.],\n",
       "       [ 0.,  1.,  3.],\n",
       "       [ 0.,  5., 12.],\n",
       "       [ 0., 12., 27.]])"
      ]
     },
     "execution_count": 8,
     "metadata": {},
     "output_type": "execute_result"
    }
   ],
   "source": [
    "ii_arr"
   ]
  },
  {
   "cell_type": "code",
   "execution_count": 9,
   "metadata": {},
   "outputs": [],
   "source": [
    "img_height, img_width =ii_arr.shape"
   ]
  },
  {
   "cell_type": "code",
   "execution_count": 10,
   "metadata": {},
   "outputs": [],
   "source": [
    "def create_features(img_height, img_width, min_f_width, max_f_width, min_f_height, max_f_height):\n",
    "    print(\"Membuat fitur Haar-like\")\n",
    "    features = []\n",
    "    for feature in FeatureTypes:\n",
    "        feature_start_width = max(min_f_width, feature[0])\n",
    "        for feature_width in range(feature_start_width, max_f_width, feature[0]):\n",
    "            feature_start_height = max(min_f_height, feature[1])\n",
    "            for feature_height in range(feature_start_height, max_f_height, feature[1]):\n",
    "                for x in range(img_width - feature_width):\n",
    "                    for y in range(img_height - feature_height):\n",
    "                        features.append(HaarLike(feature, (x,y), feature_width, feature_height, 1))\n",
    "    print (\"Jumlah fitur:\" + str(len(features)))\n",
    "    return features"
   ]
  },
  {
   "cell_type": "code",
   "execution_count": 11,
   "metadata": {},
   "outputs": [
    {
     "name": "stdout",
     "output_type": "stream",
     "text": [
      "Membuat fitur Haar-like\n",
      "Jumlah fitur:6\n"
     ]
    }
   ],
   "source": [
    "fitur_collection = create_features(img_height, img_width, min_feature_width, max_feature_width, min_feature_height, max_feature_height)"
   ]
  },
  {
   "cell_type": "code",
   "execution_count": 12,
   "metadata": {},
   "outputs": [],
   "source": [
    "def ekstrak_fitur(feature, ii_arr):\n",
    "    return feature.hitung_skor(ii_arr)"
   ]
  },
  {
   "cell_type": "code",
   "execution_count": 13,
   "metadata": {},
   "outputs": [
    {
     "name": "stdout",
     "output_type": "stream",
     "text": [
      "(1, 2) 2 2 (0, 0) (2, 2) 1\n",
      "(1, 2) 2 2 (0, 1) (2, 3) 1\n",
      "(2, 1) 2 2 (0, 0) (2, 2) 1\n",
      "(2, 1) 2 2 (0, 1) (2, 3) 1\n",
      "(2, 2) 2 2 (0, 0) (2, 2) 1\n",
      "(2, 2) 2 2 (0, 1) (2, 3) 1\n"
     ]
    }
   ],
   "source": [
    "skor=0\n",
    "for fitur in fitur_collection:\n",
    "    print (fitur.type, fitur.height, fitur.width, fitur.top_left, fitur.bottom_right, fitur.polarity)\n",
    "    skor = skor + ekstrak_fitur(fitur, ii_arr)"
   ]
  },
  {
   "cell_type": "code",
   "execution_count": 14,
   "metadata": {},
   "outputs": [
    {
     "data": {
      "text/plain": [
       "-16.0"
      ]
     },
     "execution_count": 14,
     "metadata": {},
     "output_type": "execute_result"
    }
   ],
   "source": [
    "skor"
   ]
  }
 ],
 "metadata": {
  "kernelspec": {
   "display_name": "Python 3",
   "language": "python",
   "name": "python3"
  },
  "language_info": {
   "codemirror_mode": {
    "name": "ipython",
    "version": 3
   },
   "file_extension": ".py",
   "mimetype": "text/x-python",
   "name": "python",
   "nbconvert_exporter": "python",
   "pygments_lexer": "ipython3",
   "version": "3.7.1"
  }
 },
 "nbformat": 4,
 "nbformat_minor": 2
}
